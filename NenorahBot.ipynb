{
 "cells": [
  {
   "cell_type": "code",
   "execution_count": null,
   "id": "5f130617",
   "metadata": {},
   "outputs": [],
   "source": []
  },
  {
   "cell_type": "code",
   "execution_count": 1,
   "id": "2fcdda41",
   "metadata": {},
   "outputs": [],
   "source": [
    "# from transformers import BlenderbotTokenizer, BlenderbotForConditionalGeneration\n",
    "# mname = \"facebook/blenderbot-400M-distill\"\n",
    "# model = BlenderbotForConditionalGeneration.from_pretrained(mname)"
   ]
  },
  {
   "cell_type": "code",
   "execution_count": 2,
   "id": "b7a2d82f",
   "metadata": {},
   "outputs": [],
   "source": [
    "\n",
    "# tokenizer = BlenderbotTokenizer.from_pretrained(mname)"
   ]
  },
  {
   "cell_type": "code",
   "execution_count": 3,
   "id": "fa4b1c14",
   "metadata": {},
   "outputs": [],
   "source": [
    "# #Start conversation loop\n",
    "# while True:\n",
    "#     # Get user input\n",
    "#     user_input = input(\"You: \")\n",
    "\n",
    "#     # Encode user input and generate response\n",
    "#     input_ids = tokenizer.encode(user_input, return_tensors=\"pt\")\n",
    "#     response_ids = model.generate(input_ids)\n",
    "#     response_text = tokenizer.decode(response_ids[0], skip_special_tokens=True)\n",
    "\n",
    "#     # Print response to console\n",
    "#     print(\"Nenorah Bot:\", response_text)\n",
    "\n",
    "#     # Iterate over replies until conversation ends\n",
    "#     while True:\n",
    "#         # Get user reply\n",
    "#         reply_text = input(\"You: \")\n",
    "\n",
    "#         # Exit conversation if user types \"exit\"\n",
    "#         if reply_text.lower() == \"exit\":\n",
    "#             print(\"Goodbye!\")\n",
    "#             break\n",
    "\n",
    "#         # Concatenate previous response with user reply and generate new response\n",
    "#         reply_input = response_text + \" \" + reply_text\n",
    "#         reply_ids = tokenizer.encode(reply_input, return_tensors=\"pt\")\n",
    "#         response_ids = model.generate(reply_ids)\n",
    "#         response_text = tokenizer.decode(response_ids[0], skip_special_tokens=True)\n",
    "\n",
    "#         # Print response to console\n",
    "#         print(\"Nenorah Bot:\", response_text)\n",
    "\n"
   ]
  },
  {
   "cell_type": "code",
   "execution_count": null,
   "id": "b4bdefcd",
   "metadata": {},
   "outputs": [],
   "source": []
  },
  {
   "cell_type": "code",
   "execution_count": 4,
   "id": "d6aec417",
   "metadata": {},
   "outputs": [],
   "source": [
    "#import streamlit as st"
   ]
  },
  {
   "cell_type": "code",
   "execution_count": 5,
   "id": "cca20956",
   "metadata": {},
   "outputs": [],
   "source": [
    "# # Define a function to generate a response from the chatbot\n",
    "# @st.cache(allow_output_mutation=True)\n",
    "# def generate_response(input_text):\n",
    "#     inputs = tokenizer([input_text], return_tensors=\"pt\")\n",
    "#     reply_ids = model.generate(**inputs)\n",
    "#     reply_text = tokenizer.batch_decode(reply_ids)[0]\n",
    "#     return reply_text\n",
    "\n",
    "# # Define the Streamlit UI\n",
    "# st.title(\"Blenderbot Chatbot\")\n",
    "\n",
    "# user_input = st.text_input(\"You: \", \"\")\n",
    "\n",
    "# if st.button(\"Send\"):\n",
    "#     bot_response = generate_response(user_input)\n",
    "#     st.text_area(\"Blenderbot: \", value=bot_response, height=100)"
   ]
  },
  {
   "cell_type": "code",
   "execution_count": null,
   "id": "72f4ed4b",
   "metadata": {},
   "outputs": [],
   "source": [
    "!streamlit run NenorahBot.py"
   ]
  },
  {
   "cell_type": "code",
   "execution_count": null,
   "id": "1a394213",
   "metadata": {},
   "outputs": [],
   "source": [
    "# import streamlit as st\n",
    "# from datetime import datetime\n",
    "\n",
    "# # Define function to display messages with a border\n",
    "# def display_message(sender, message):\n",
    "#     time = datetime.now().strftime(\"%H:%M:%S\")\n",
    "#     if sender == \"user\":\n",
    "#         st.write(f\"<div style='float:left;border:1px solid #ccc;border-radius:5px;background-color:#ddd;color:#000;padding:10px;margin-top:15px;width:40%;'><b>You:</b> {message}</div>\", unsafe_allow_html=True)\n",
    "#     else:\n",
    "#         st.write(f\"<div style='float:right;border:1px solid #ccc;border-radius:5px;background-color:#eee;color:#222;padding:10px;margin-bottom:10px;margin-top:5px;width:40%;'><b>NenorahBot:</b> {message}</div>\", unsafe_allow_html=True)\n",
    "\n",
    "# # Define main function for chat app\n",
    "# def chat_app():\n",
    "#     # Set app title and chatbot image\n",
    "#     st.image(\"https://th.bing.com/th/id/R.081b885f0872ddfd530007a70a0ed590?rik=q3yfESphKfG7Xw&riu=http%3a%2f%2fexperthubrobotics.com%2fportals%2f0%2fImages%2fRobots%2fHire-A-Bot-HRHub-BOT-Final.png&ehk=Wszs0cFOSaNiLOygBcqfUsG6tprtToL5APmVE%2bdWgA4%3d&risl=&pid=ImgRaw&r=0\", width=200, use_column_width=False)\n",
    "#     st.markdown(\"<h1 style='text-align:center;'>Chat with NenorahBot</h1>\", unsafe_allow_html=True)\n",
    "\n",
    "#     # Add some margin to push the input box below the chat messages\n",
    "#     st.markdown(\"<br>\", unsafe_allow_html=True)\n",
    "\n",
    "#     # Create input box for user to enter messages\n",
    "#     user_input = st.text_input(\"Enter message\", value=\"\", key=\"user_input\")\n",
    "\n",
    "#     # Create button to submit user message\n",
    "#     if st.button(\"Send Message\"):\n",
    "#         display_message(\"user\", user_input)\n",
    "#         # Replace this with your bot's response\n",
    "#         display_message(\"bot\", \"I'm sorry, I didn't understand. Can you please rephrase your question?\")\n",
    "\n",
    "#     # Add some margin to separate the input box from the chat messages\n",
    "#     st.markdown(\"<br>\", unsafe_allow_html=True)\n",
    "\n",
    "# chat_app()\n"
   ]
  }
 ],
 "metadata": {
  "kernelspec": {
   "display_name": "Python 3 (ipykernel)",
   "language": "python",
   "name": "python3"
  },
  "language_info": {
   "codemirror_mode": {
    "name": "ipython",
    "version": 3
   },
   "file_extension": ".py",
   "mimetype": "text/x-python",
   "name": "python",
   "nbconvert_exporter": "python",
   "pygments_lexer": "ipython3",
   "version": "3.9.12"
  }
 },
 "nbformat": 4,
 "nbformat_minor": 5
}
