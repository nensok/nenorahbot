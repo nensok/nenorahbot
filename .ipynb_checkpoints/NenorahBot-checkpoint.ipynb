{
 "cells": [
  {
   "cell_type": "code",
   "execution_count": null,
   "id": "a3de5636",
   "metadata": {},
   "outputs": [],
   "source": []
  },
  {
   "cell_type": "code",
   "execution_count": 1,
   "id": "48b56a10",
   "metadata": {},
   "outputs": [],
   "source": [
    "# from transformers import BlenderbotTokenizer, BlenderbotForConditionalGeneration\n",
    "# mname = \"facebook/blenderbot-400M-distill\"\n",
    "# model = BlenderbotForConditionalGeneration.from_pretrained(mname)"
   ]
  },
  {
   "cell_type": "code",
   "execution_count": 2,
   "id": "a57ea9f2",
   "metadata": {},
   "outputs": [],
   "source": [
    "\n",
    "# tokenizer = BlenderbotTokenizer.from_pretrained(mname)"
   ]
  },
  {
   "cell_type": "code",
   "execution_count": 3,
   "id": "275ce7aa",
   "metadata": {},
   "outputs": [],
   "source": [
    "# #Start conversation loop\n",
    "# while True:\n",
    "#     # Get user input\n",
    "#     user_input = input(\"You: \")\n",
    "\n",
    "#     # Encode user input and generate response\n",
    "#     input_ids = tokenizer.encode(user_input, return_tensors=\"pt\")\n",
    "#     response_ids = model.generate(input_ids)\n",
    "#     response_text = tokenizer.decode(response_ids[0], skip_special_tokens=True)\n",
    "\n",
    "#     # Print response to console\n",
    "#     print(\"Nenorah Bot:\", response_text)\n",
    "\n",
    "#     # Iterate over replies until conversation ends\n",
    "#     while True:\n",
    "#         # Get user reply\n",
    "#         reply_text = input(\"You: \")\n",
    "\n",
    "#         # Exit conversation if user types \"exit\"\n",
    "#         if reply_text.lower() == \"exit\":\n",
    "#             print(\"Goodbye!\")\n",
    "#             break\n",
    "\n",
    "#         # Concatenate previous response with user reply and generate new response\n",
    "#         reply_input = response_text + \" \" + reply_text\n",
    "#         reply_ids = tokenizer.encode(reply_input, return_tensors=\"pt\")\n",
    "#         response_ids = model.generate(reply_ids)\n",
    "#         response_text = tokenizer.decode(response_ids[0], skip_special_tokens=True)\n",
    "\n",
    "#         # Print response to console\n",
    "#         print(\"Nenorah Bot:\", response_text)\n",
    "\n"
   ]
  },
  {
   "cell_type": "code",
   "execution_count": null,
   "id": "fa1914cf",
   "metadata": {},
   "outputs": [],
   "source": []
  },
  {
   "cell_type": "code",
   "execution_count": 4,
   "id": "e655d40a",
   "metadata": {},
   "outputs": [],
   "source": [
    "#import streamlit as st"
   ]
  },
  {
   "cell_type": "code",
   "execution_count": 5,
   "id": "ac730d38",
   "metadata": {},
   "outputs": [],
   "source": [
    "# # Define a function to generate a response from the chatbot\n",
    "# @st.cache(allow_output_mutation=True)\n",
    "# def generate_response(input_text):\n",
    "#     inputs = tokenizer([input_text], return_tensors=\"pt\")\n",
    "#     reply_ids = model.generate(**inputs)\n",
    "#     reply_text = tokenizer.batch_decode(reply_ids)[0]\n",
    "#     return reply_text\n",
    "\n",
    "# # Define the Streamlit UI\n",
    "# st.title(\"Blenderbot Chatbot\")\n",
    "\n",
    "# user_input = st.text_input(\"You: \", \"\")\n",
    "\n",
    "# if st.button(\"Send\"):\n",
    "#     bot_response = generate_response(user_input)\n",
    "#     st.text_area(\"Blenderbot: \", value=bot_response, height=100)"
   ]
  },
  {
   "cell_type": "code",
   "execution_count": null,
   "id": "a3d74ddc",
   "metadata": {},
   "outputs": [],
   "source": [
    "!streamlit run NenorahBot.py"
   ]
  },
  {
   "cell_type": "code",
   "execution_count": null,
   "id": "d2f87500",
   "metadata": {},
   "outputs": [],
   "source": []
  }
 ],
 "metadata": {
  "kernelspec": {
   "display_name": "Python 3 (ipykernel)",
   "language": "python",
   "name": "python3"
  },
  "language_info": {
   "codemirror_mode": {
    "name": "ipython",
    "version": 3
   },
   "file_extension": ".py",
   "mimetype": "text/x-python",
   "name": "python",
   "nbconvert_exporter": "python",
   "pygments_lexer": "ipython3",
   "version": "3.9.12"
  }
 },
 "nbformat": 4,
 "nbformat_minor": 5
}
